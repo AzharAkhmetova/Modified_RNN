{
  "nbformat": 4,
  "nbformat_minor": 0,
  "metadata": {
    "colab": {
      "name": "RNN_final.ipynb",
      "provenance": [],
      "collapsed_sections": [],
      "toc_visible": true
    },
    "kernelspec": {
      "name": "python3",
      "display_name": "Python 3"
    },
    "language_info": {
      "name": "python"
    }
  },
  "cells": [
    {
      "cell_type": "code",
      "metadata": {
        "id": "i6vaL2IeDIxW"
      },
      "source": [
        "import os\n",
        "import numpy as np\n",
        "import pandas as pd\n",
        "from sklearn import datasets\n",
        "import matplotlib.pyplot as plt\n",
        "import matplotlib.pyplot as plt\n",
        "\n",
        "from sklearn.metrics import accuracy_score\n",
        "from sklearn.model_selection import KFold\n",
        "from sklearn.preprocessing import StandardScaler\n",
        "from sklearn.neighbors import RadiusNeighborsClassifier\n",
        "from sklearn.model_selection import train_test_split"
      ],
      "execution_count": 56,
      "outputs": []
    },
    {
      "cell_type": "code",
      "source": [
        "path = 'datasets'"
      ],
      "metadata": {
        "id": "Gh9nl5Uk4zH3",
        "colab": {
          "base_uri": "https://localhost:8080/"
        },
        "outputId": "3c1a3d32-39dd-463f-dbaf-dae78c929ad3"
      },
      "execution_count": 2,
      "outputs": [
        {
          "output_type": "stream",
          "name": "stdout",
          "text": [
            "Mounted at /content/drive\n"
          ]
        }
      ]
    },
    {
      "cell_type": "markdown",
      "source": [
        "## Visualisation"
      ],
      "metadata": {
        "id": "R6J0pZ_kf0oW"
      }
    },
    {
      "cell_type": "code",
      "source": [
        "def visualize(res_lib, res_mod, r_min, r_max, step):\n",
        "\n",
        "    plt.rcParams.update({'font.size': 14}) \n",
        "\n",
        "    R = np.arange(r_min, r_max, step)\n",
        "\n",
        "    fig = plt.figure(figsize=(6,4), dpi=100)\n",
        "    plt.plot(R, res_lib, '--', label='off-the-shelf')\n",
        "    plt.plot(R, res_mod, label='modified')\n",
        "\n",
        "    plt.grid(True)\n",
        "    plt.xlabel(\"r\")\n",
        "    plt.ylabel(\"CV Accuracy\")\n",
        "\n",
        "    plt.legend()\n",
        "\n",
        "    plt.show()\n",
        "    fig.savefig('plot.png', dpi=300)"
      ],
      "metadata": {
        "id": "1qTw3b7EdW6I"
      },
      "execution_count": 4,
      "outputs": []
    },
    {
      "cell_type": "markdown",
      "metadata": {
        "id": "F1DN6XYZXLSI"
      },
      "source": [
        "## Off-the-shelf R-NN implementation"
      ]
    },
    {
      "cell_type": "code",
      "metadata": {
        "id": "EoVE3XjJXLSK"
      },
      "source": [
        "def library_rnn(X, y, r_min=0.3, r_max=3.1, step=0.1):\n",
        "\n",
        "    X_train, X_test, y_train, y_test = train_test_split(X, y, test_size=0.2, random_state=42)\n",
        "\n",
        "    kf = KFold(n_splits=5, shuffle=True, random_state=42) # 5-fold cross val\n",
        "\n",
        "    R = np.arange(r_min, r_max, step) # range of hyperparameter r\n",
        "    res = [] #stores accuracy scores for each r\n",
        "\n",
        "    for r in R:\n",
        "\n",
        "      scores = []\n",
        "\n",
        "      for train_index, val_index in kf.split(X_train):\n",
        "\n",
        "          X_train_cv, X_val_cv = X_train[train_index], X_train[val_index]\n",
        "          y_train_cv, y_val_cv = y_train[train_index], y_train[val_index]\n",
        "\n",
        "          N, M = X_train_cv.shape[0], X_train_cv.shape[1]\n",
        "\n",
        "          cls = RadiusNeighborsClassifier(r)\n",
        "          cls.fit(X_train_cv, y_train_cv)\n",
        "\n",
        "          labels = cls.predict(X_val_cv)\n",
        "          score = accuracy_score(labels, y_val_cv)\n",
        "          scores.append(score)\n",
        "\n",
        "      acc = sum(scores)/len(scores)\n",
        "      res.append(acc)\n",
        "      print(\"For r = {} cv accuracy is {}\".format(r, acc))\n",
        "\n",
        "    best_res = max(res)\n",
        "    best_r = R[np.argmax(np.array(res))]\n",
        "\n",
        "    ### on the test set\n",
        "\n",
        "    cls = RadiusNeighborsClassifier(best_r)\n",
        "    cls.fit(X_train, y_train)\n",
        "    \n",
        "    labels = cls.predict(X_test)\n",
        "    test_score = accuracy_score(labels, y_test)\n",
        "\n",
        "    print(\"\\nBest r = {} with best cv accuracy = {}\\nTest accuracy = {}\".format(best_r, best_res, test_score))\n",
        "\n",
        "    return best_r, best_res, test_score, res"
      ],
      "execution_count": 6,
      "outputs": []
    },
    {
      "cell_type": "markdown",
      "source": [
        "## Euclidean distance"
      ],
      "metadata": {
        "id": "_jEk9CbYsIyB"
      }
    },
    {
      "cell_type": "code",
      "metadata": {
        "id": "EiqpQXuD_zu6"
      },
      "source": [
        "def euclidean_distance(x1, x2):\n",
        "    return np.sqrt(np.sum((x1-x2)**2))"
      ],
      "execution_count": 7,
      "outputs": []
    },
    {
      "cell_type": "markdown",
      "metadata": {
        "id": "ThgldfBo86vX"
      },
      "source": [
        "## Manual R-NN implementation"
      ]
    },
    {
      "cell_type": "code",
      "metadata": {
        "id": "_KyjfCb986vd"
      },
      "source": [
        "def find_nn_rnn(r, x_test, X_train, y_train):\n",
        "\n",
        "    N = X_train.shape[0]\n",
        "    nn = [] # stores nearest neighbors within r\n",
        "\n",
        "    for i in range(N):\n",
        "        d = euclidean_distance(x_test, X_train[i])\n",
        "        if d <= r:\n",
        "            nn.append(i)\n",
        "    \n",
        "    preds = y_train[nn]  # labels of nearest neighbors\n",
        "\n",
        "    values, counts = np.unique(preds, return_counts=True)\n",
        "\n",
        "    ind = np.argmax(counts) # index of majority vote \n",
        "    \n",
        "    return values[ind]"
      ],
      "execution_count": 9,
      "outputs": []
    },
    {
      "cell_type": "code",
      "metadata": {
        "id": "83AteRS9ELSG"
      },
      "source": [
        "def manual_rnn(X, y, r_min=0.3, r_max=3.1, step=0.1):\n",
        "\n",
        "    X_train, X_test, y_train, y_test = train_test_split(X, y, test_size=0.2, random_state=42)\n",
        "\n",
        "    kf = KFold(n_splits=5, shuffle=True, random_state=42)\n",
        "\n",
        "    R = np.arange(r_min, r_max, step)\n",
        "    res = []\n",
        "\n",
        "    for r in R:\n",
        "\n",
        "      scores = []\n",
        "\n",
        "      for train_index, val_index in kf.split(X_train):\n",
        "\n",
        "          X_train_cv, X_val_cv = X_train[train_index], X_train[val_index]\n",
        "          y_train_cv, y_val_cv = y_train[train_index], y_train[val_index]\n",
        "\n",
        "          N = X_val_cv.shape[0]\n",
        "          labels = np.zeros(N)\n",
        "\n",
        "          for i in range(N):\n",
        "              labels[i] = find_nn_rnn(r, X_val_cv[i], X_train_cv, y_train_cv)\n",
        "\n",
        "          score = accuracy_score(labels, y_val_cv)\n",
        "          scores.append(score)\n",
        "\n",
        "      acc = sum(scores)/len(scores)\n",
        "      res.append(acc)\n",
        "      print(\"For r = {} cv accuracy is {}\".format(r, acc))\n",
        "\n",
        "    best_res = max(res)\n",
        "    best_r = R[np.argmax(np.array(res))]\n",
        "\n",
        "    ### on the test set\n",
        "\n",
        "    N = X_test.shape[0]\n",
        "    labels = np.zeros(N)\n",
        "\n",
        "    for i in range(N):\n",
        "        labels[i] = find_nn_rnn(best_r, X_test[i], X_train, y_train)\n",
        "\n",
        "    test_score = accuracy_score(labels, y_test)\n",
        "\n",
        "    print(\"\\nBest r = {} with best cv accuracy = {}\\nTest accuracy = {}\".format(best_r, best_res, test_score))\n",
        "\n",
        "    return best_r, best_res, test_score"
      ],
      "execution_count": 10,
      "outputs": []
    },
    {
      "cell_type": "markdown",
      "metadata": {
        "id": "_h3zdw38y5R4"
      },
      "source": [
        "## Modified R-NN"
      ]
    },
    {
      "cell_type": "code",
      "metadata": {
        "id": "m9x4yao2zAhW"
      },
      "source": [
        "def compute_ri(X_train, y_train):\n",
        "\n",
        "    data = [] # contains lists with examples' indexes belonging to the class corresponding to the index of 'data'\n",
        "    classes = np.unique(y_train, return_counts=False)   # identifying classes\n",
        "    num_classes = len(classes) \n",
        "    classes.sort()\n",
        "\n",
        "    for c in classes:\n",
        "        ind = np.where(y_train == c)  # list of indexes of examples corresponding to class c\n",
        "        data.append(ind)\n",
        "\n",
        "    N = X_train.shape[0]\n",
        "\n",
        "    R = np.zeros(N) # contains the largest radii of hypershperes centered at x_i that includes only x_i's class\n",
        "\n",
        "    for i in range(N):  # for each training example\n",
        "        distances = []    # distances to points from other classes\n",
        "        for c in range(num_classes):   # for all other training examples\n",
        "            if c == y_train[i]:\n",
        "                continue    # next class\n",
        "            else:\n",
        "                for ind in data[c]:\n",
        "                    d = euclidean_distance(X_train[i], X_train[ind])\n",
        "                    distances.append(d)\n",
        "\n",
        "        R[i] = min(distances) # finds the r_i for x_i\n",
        "\n",
        "    for c in classes:\n",
        "        R_c = R[data[c]] # data[c] - indexes of x_i's of class c # R_c - interclass r_i's\n",
        "        max_r_c = np.max(R_c) # for normalizing\n",
        "        R[data[c]] = R_c / max_r_c \n",
        "\n",
        "    return R"
      ],
      "execution_count": 11,
      "outputs": []
    },
    {
      "cell_type": "code",
      "metadata": {
        "id": "KwnfWaioid29"
      },
      "source": [
        "def modified_rnn_prediction(x_test, X_train, y_train, R, r=0.4, thrs=0.5):\n",
        "\n",
        "  N = X_train.shape[0]\n",
        "\n",
        "  distances = np.zeros((N, 2)) # stores indexes of the examples in the 1st column, and the distances from x_test to x_i in the 2nd\n",
        "\n",
        "  i = 0\n",
        "  for x_i in X_train:\n",
        "    d = euclidean_distance(x_test, x_i)\n",
        "    distances[i, 0] = i\n",
        "    distances[i, 1] = d\n",
        "    i += 1\n",
        "\n",
        "  distances = distances[distances[:,1].argsort()] # sort rows by distances\n",
        "\n",
        "  nn_ind = int(distances[0,0]) # index of the nearest neighbor of x_test\n",
        "\n",
        "  if R[nn_ind] > thrs:  # meaning r_i is large \n",
        "      prediction = y_train[nn_ind]  # perform 1-N\n",
        "  else:\n",
        "    nn = []   # stores global indexes of nearest neighbors located within r\n",
        "\n",
        "    for i in range(N):\n",
        "        d = euclidean_distance(x_test, X_train[i])\n",
        "        if d <= r:\n",
        "            nn.append(i)\n",
        "            \n",
        "    if len(nn) == 0:\n",
        "        raise ValueError('No neighbors found. Choose larger r.')\n",
        "    \n",
        "    nn_y = y_train[nn]  # labels corresponding to indexes of the nearest neighbors\n",
        "\n",
        "    classes_nn, counts = np.unique(nn_y, return_counts = True) # identify classes of the nearest neighbors\n",
        "\n",
        "    centroids = [] # stores tuples of local centroids' classes and their coordinates\n",
        "\n",
        "    # loop over classes that exist in my neighborhood of radius r\n",
        "    for c in classes_nn:\n",
        "        # for each class we get indexes\n",
        "        local_ind = np.where(nn_y == c)[0]  # local indexes of nearest neighbors which have class c\n",
        "        local_ind = [int(n) for n in local_ind] # ensuring indexes has to be of type int\n",
        "        nn = np.array(nn) \n",
        "        global_ind = nn[local_ind] #indexes of nn of class c \n",
        "        centroids.append((c, np.mean(X_train[global_ind], axis=0)))\n",
        "    \n",
        "    # algorithm to find min\n",
        "    min_class = -1\n",
        "    min_dist = 100000\n",
        "    for centroid in centroids:\n",
        "        c, cpoint = centroid\n",
        "        d = euclidean_distance(x_test, cpoint)\n",
        "        if d < min_dist:\n",
        "            min_dist = d\n",
        "            min_class = c\n",
        "\n",
        "    prediction = min_class\n",
        "\n",
        "  return prediction"
      ],
      "execution_count": 13,
      "outputs": []
    },
    {
      "cell_type": "code",
      "metadata": {
        "id": "RbyCbCVDuMBB"
      },
      "source": [
        "def modified_rnn(X, y, r_min=0.2, r_max=1, step=0.1, thrs=0.7):\n",
        "\n",
        "    X_train, X_test, y_train, y_test = train_test_split(X, y, test_size=0.2, random_state=42)\n",
        "\n",
        "    kf = KFold(n_splits=5, shuffle=True, random_state=42)\n",
        "\n",
        "    R = np.arange(r_min, r_max, step)\n",
        "    res = []\n",
        "\n",
        "    for r in R:\n",
        "\n",
        "      scores = []\n",
        "\n",
        "      for train_index, val_index in kf.split(X_train):\n",
        "\n",
        "          X_train_cv, X_val_cv = X_train[train_index], X_train[val_index]\n",
        "          y_train_cv, y_val_cv = y_train[train_index], y_train[val_index]\n",
        "\n",
        "          N = X_val_cv.shape[0]\n",
        "          labels = np.zeros(N)\n",
        "\n",
        "          R_cv = compute_ri(X_train_cv, y_train_cv)\n",
        "          \n",
        "          for i in range(N):\n",
        "              labels[i] = modified_rnn_prediction(X_val_cv[i], X_train_cv, y_train_cv, R_cv, r=r, thrs=thrs)\n",
        "\n",
        "          score = accuracy_score(labels, y_val_cv)\n",
        "          scores.append(score)\n",
        "\n",
        "      acc = sum(scores)/len(scores)\n",
        "      res.append(acc)\n",
        "      print(\"For r = {} cv accuracy is {}\".format(r, acc))\n",
        "\n",
        "    #plt.scatter(R, res)\n",
        "\n",
        "    best_res = max(res)\n",
        "    best_r = R[np.argmax(np.array(res))]\n",
        "\n",
        "    ### on the test set\n",
        "\n",
        "    N = X_test.shape[0]\n",
        "    labels = np.zeros(N)\n",
        "\n",
        "    R = compute_ri(X_train, y_train)\n",
        "\n",
        "    for i in range(N):\n",
        "        labels[i] = modified_rnn_prediction(X_test[i], X_train, y_train, R, r=best_r)\n",
        "\n",
        "    test_score = accuracy_score(labels, y_test)\n",
        "\n",
        "    print(\"\\nBest r = {} with best cv accuracy = {}\\nTest accuracy = {}\".format(best_r, best_res, test_score))\n",
        "\n",
        "    return best_r, best_res, test_score, res"
      ],
      "execution_count": 14,
      "outputs": []
    },
    {
      "cell_type": "markdown",
      "metadata": {
        "id": "M4xeYgn1O4_r"
      },
      "source": [
        "## Dataset"
      ]
    },
    {
      "cell_type": "markdown",
      "metadata": {
        "id": "eOaAqyZM7ce_"
      },
      "source": [
        "### Iris"
      ]
    },
    {
      "cell_type": "code",
      "metadata": {
        "colab": {
          "base_uri": "https://localhost:8080/"
        },
        "outputId": "217cb25d-5fee-4d96-b3b8-af8b71213117",
        "id": "ULJAdDWe7cfA"
      },
      "source": [
        "iris = datasets.load_iris()\n",
        "X = iris.data\n",
        "y = iris.target\n",
        "\n",
        "scaler = StandardScaler()\n",
        "X = scaler.fit_transform(X)\n",
        "\n",
        "X.shape, y.shape"
      ],
      "execution_count": 15,
      "outputs": [
        {
          "output_type": "execute_result",
          "data": {
            "text/plain": [
              "((150, 4), (150,))"
            ]
          },
          "metadata": {},
          "execution_count": 15
        }
      ]
    },
    {
      "cell_type": "code",
      "metadata": {
        "colab": {
          "base_uri": "https://localhost:8080/"
        },
        "outputId": "eec521bb-7198-4b45-d2ad-766f9cec1863",
        "id": "uCRNB5807cfB"
      },
      "source": [
        "best_r_lib_iris, best_res_lib_iris, test_score_lib_iris, res_lib_iris = library_rnn(X, y, r_min=1.4, r_max=3.1, step=0.1)"
      ],
      "execution_count": 16,
      "outputs": [
        {
          "output_type": "stream",
          "name": "stdout",
          "text": [
            "For r = 1.4 cv accuracy is 0.875\n",
            "For r = 1.5 cv accuracy is 0.8583333333333334\n",
            "For r = 1.6 cv accuracy is 0.85\n",
            "For r = 1.7000000000000002 cv accuracy is 0.8583333333333334\n",
            "For r = 1.8000000000000003 cv accuracy is 0.825\n",
            "For r = 1.9000000000000004 cv accuracy is 0.8166666666666668\n",
            "For r = 2.0000000000000004 cv accuracy is 0.8333333333333334\n",
            "For r = 2.1000000000000005 cv accuracy is 0.7999999999999999\n",
            "For r = 2.2000000000000006 cv accuracy is 0.8083333333333333\n",
            "For r = 2.3000000000000007 cv accuracy is 0.8166666666666668\n",
            "For r = 2.400000000000001 cv accuracy is 0.8\n",
            "For r = 2.500000000000001 cv accuracy is 0.8\n",
            "For r = 2.600000000000001 cv accuracy is 0.8\n",
            "For r = 2.700000000000001 cv accuracy is 0.8083333333333332\n",
            "For r = 2.800000000000001 cv accuracy is 0.7833333333333334\n",
            "For r = 2.9000000000000012 cv accuracy is 0.7916666666666667\n",
            "For r = 3.0000000000000013 cv accuracy is 0.775\n",
            "\n",
            "Best r = 1.4 with best cv accuracy = 0.875\n",
            "Test accuracy = 0.9666666666666667\n"
          ]
        }
      ]
    },
    {
      "cell_type": "code",
      "metadata": {
        "colab": {
          "base_uri": "https://localhost:8080/"
        },
        "outputId": "7bebec90-42e5-4c79-e0d0-7435cc3cacbd",
        "id": "9F3U_Nkq7cfB"
      },
      "source": [
        "manual_rnn(X, y, r_min=1.4, r_max=3.1, step=0.1)"
      ],
      "execution_count": 17,
      "outputs": [
        {
          "output_type": "stream",
          "name": "stdout",
          "text": [
            "For r = 1.4 cv accuracy is 0.875\n",
            "For r = 1.5 cv accuracy is 0.8583333333333334\n",
            "For r = 1.6 cv accuracy is 0.85\n",
            "For r = 1.7000000000000002 cv accuracy is 0.8583333333333334\n",
            "For r = 1.8000000000000003 cv accuracy is 0.825\n",
            "For r = 1.9000000000000004 cv accuracy is 0.8166666666666668\n",
            "For r = 2.0000000000000004 cv accuracy is 0.8333333333333334\n",
            "For r = 2.1000000000000005 cv accuracy is 0.7999999999999999\n",
            "For r = 2.2000000000000006 cv accuracy is 0.8083333333333333\n",
            "For r = 2.3000000000000007 cv accuracy is 0.8166666666666668\n",
            "For r = 2.400000000000001 cv accuracy is 0.8\n",
            "For r = 2.500000000000001 cv accuracy is 0.8\n",
            "For r = 2.600000000000001 cv accuracy is 0.8\n",
            "For r = 2.700000000000001 cv accuracy is 0.8083333333333332\n",
            "For r = 2.800000000000001 cv accuracy is 0.7833333333333334\n",
            "For r = 2.9000000000000012 cv accuracy is 0.7916666666666667\n",
            "For r = 3.0000000000000013 cv accuracy is 0.775\n",
            "\n",
            "Best r = 1.4 with best cv accuracy = 0.875\n",
            "Test accuracy = 0.9666666666666667\n"
          ]
        },
        {
          "output_type": "execute_result",
          "data": {
            "text/plain": [
              "(1.4, 0.875, 0.9666666666666667)"
            ]
          },
          "metadata": {},
          "execution_count": 17
        }
      ]
    },
    {
      "cell_type": "code",
      "metadata": {
        "colab": {
          "base_uri": "https://localhost:8080/"
        },
        "outputId": "008188ff-c725-41a8-df68-2ae3fb22b143",
        "id": "CgADd8Du7cfB"
      },
      "source": [
        "best_r_mod_iris, best_res_mod_iris, test_score_mod_iris, res_mod_iris = modified_rnn(X, y, r_min=1.4, r_max=3.1, step=0.1, thrs=0.7)"
      ],
      "execution_count": 18,
      "outputs": [
        {
          "output_type": "stream",
          "name": "stdout",
          "text": [
            "For r = 1.4 cv accuracy is 0.95\n",
            "For r = 1.5 cv accuracy is 0.95\n",
            "For r = 1.6 cv accuracy is 0.9333333333333332\n",
            "For r = 1.7000000000000002 cv accuracy is 0.9333333333333332\n",
            "For r = 1.8000000000000003 cv accuracy is 0.925\n",
            "For r = 1.9000000000000004 cv accuracy is 0.9333333333333332\n",
            "For r = 2.0000000000000004 cv accuracy is 0.9416666666666667\n",
            "For r = 2.1000000000000005 cv accuracy is 0.925\n",
            "For r = 2.2000000000000006 cv accuracy is 0.9166666666666666\n",
            "For r = 2.3000000000000007 cv accuracy is 0.8833333333333334\n",
            "For r = 2.400000000000001 cv accuracy is 0.8833333333333334\n",
            "For r = 2.500000000000001 cv accuracy is 0.875\n",
            "For r = 2.600000000000001 cv accuracy is 0.875\n",
            "For r = 2.700000000000001 cv accuracy is 0.875\n",
            "For r = 2.800000000000001 cv accuracy is 0.875\n",
            "For r = 2.9000000000000012 cv accuracy is 0.875\n",
            "For r = 3.0000000000000013 cv accuracy is 0.875\n",
            "\n",
            "Best r = 1.4 with best cv accuracy = 0.95\n",
            "Test accuracy = 1.0\n"
          ]
        }
      ]
    },
    {
      "cell_type": "code",
      "source": [
        "visualize(res_lib_iris, res_mod_iris, r_min=1.4, r_max=3.1, step=0.1)"
      ],
      "metadata": {
        "colab": {
          "base_uri": "https://localhost:8080/",
          "height": 392
        },
        "outputId": "df691d20-088e-4ad0-9e1a-bd002c0e06b9",
        "id": "12eLmif47cfB"
      },
      "execution_count": 19,
      "outputs": [
        {
          "output_type": "display_data",
          "data": {
            "image/png": "[encoded data removed]",
            "text/plain": [
              "<Figure size 600x400 with 1 Axes>"
            ]
          },
          "metadata": {
            "needs_background": "light"
          }
        }
      ]
    },
    {
      "cell_type": "markdown",
      "metadata": {
        "id": "A4bfUP467cfF"
      },
      "source": [
        "### Wine"
      ]
    },
    {
      "cell_type": "code",
      "metadata": {
        "colab": {
          "base_uri": "https://localhost:8080/"
        },
        "outputId": "56857ae1-97a6-49ca-ea33-e7c3b2685f1b",
        "id": "E55w0op67cfG"
      },
      "source": [
        "wine = datasets.load_wine()\n",
        "X = wine.data\n",
        "y = wine.target\n",
        "\n",
        "scaler = StandardScaler()\n",
        "X = scaler.fit_transform(X)\n",
        "\n",
        "X.shape, y.shape"
      ],
      "execution_count": 49,
      "outputs": [
        {
          "output_type": "execute_result",
          "data": {
            "text/plain": [
              "((178, 13), (178,))"
            ]
          },
          "metadata": {},
          "execution_count": 49
        }
      ]
    },
    {
      "cell_type": "code",
      "metadata": {
        "colab": {
          "base_uri": "https://localhost:8080/"
        },
        "outputId": "7c252c41-c99c-4f12-d74e-1aa2b242e122",
        "id": "rpYDTHhU7cfG"
      },
      "source": [
        "best_r_lib_w, best_res_lib_w, test_score_lib_w, res_lib_w = library_rnn(X, y, 4, 6, 0.1)"
      ],
      "execution_count": 50,
      "outputs": [
        {
          "output_type": "stream",
          "name": "stdout",
          "text": [
            "For r = 4.0 cv accuracy is 0.9435960591133006\n",
            "For r = 4.1 cv accuracy is 0.9435960591133006\n",
            "For r = 4.199999999999999 cv accuracy is 0.9576354679802955\n",
            "For r = 4.299999999999999 cv accuracy is 0.9576354679802955\n",
            "For r = 4.399999999999999 cv accuracy is 0.9576354679802955\n",
            "For r = 4.499999999999998 cv accuracy is 0.9504926108374384\n",
            "For r = 4.599999999999998 cv accuracy is 0.9435960591133006\n",
            "For r = 4.6999999999999975 cv accuracy is 0.9157635467980295\n",
            "For r = 4.799999999999997 cv accuracy is 0.9155172413793103\n",
            "For r = 4.899999999999997 cv accuracy is 0.9157635467980295\n",
            "For r = 4.9999999999999964 cv accuracy is 0.8945812807881774\n",
            "For r = 5.099999999999996 cv accuracy is 0.8731527093596061\n",
            "For r = 5.199999999999996 cv accuracy is 0.8307881773399014\n",
            "For r = 5.299999999999995 cv accuracy is 0.8029556650246306\n",
            "For r = 5.399999999999995 cv accuracy is 0.8032019704433498\n",
            "For r = 5.499999999999995 cv accuracy is 0.7891625615763547\n",
            "For r = 5.599999999999994 cv accuracy is 0.7756157635467981\n",
            "For r = 5.699999999999994 cv accuracy is 0.7401477832512315\n",
            "For r = 5.799999999999994 cv accuracy is 0.7261083743842365\n",
            "For r = 5.899999999999993 cv accuracy is 0.6699507389162561\n",
            "\n",
            "Best r = 4.199999999999999 with best cv accuracy = 0.9576354679802955\n",
            "Test accuracy = 0.9722222222222222\n"
          ]
        }
      ]
    },
    {
      "cell_type": "code",
      "metadata": {
        "colab": {
          "base_uri": "https://localhost:8080/"
        },
        "outputId": "ae5c9b8f-7bf6-424c-c71a-157218b8a285",
        "id": "Fk9yK94z7cfG"
      },
      "source": [
        "manual_rnn(X, y, 4, 6, 0.1)"
      ],
      "execution_count": 52,
      "outputs": [
        {
          "output_type": "stream",
          "name": "stdout",
          "text": [
            "For r = 4.0 cv accuracy is 0.9435960591133006\n",
            "For r = 4.1 cv accuracy is 0.9435960591133006\n",
            "For r = 4.199999999999999 cv accuracy is 0.9576354679802955\n",
            "For r = 4.299999999999999 cv accuracy is 0.9576354679802955\n",
            "For r = 4.399999999999999 cv accuracy is 0.9576354679802955\n",
            "For r = 4.499999999999998 cv accuracy is 0.9504926108374384\n",
            "For r = 4.599999999999998 cv accuracy is 0.9435960591133006\n",
            "For r = 4.6999999999999975 cv accuracy is 0.9157635467980295\n",
            "For r = 4.799999999999997 cv accuracy is 0.9155172413793103\n",
            "For r = 4.899999999999997 cv accuracy is 0.9157635467980295\n",
            "For r = 4.9999999999999964 cv accuracy is 0.8945812807881774\n",
            "For r = 5.099999999999996 cv accuracy is 0.8731527093596061\n",
            "For r = 5.199999999999996 cv accuracy is 0.8307881773399014\n",
            "For r = 5.299999999999995 cv accuracy is 0.8029556650246306\n",
            "For r = 5.399999999999995 cv accuracy is 0.8032019704433498\n",
            "For r = 5.499999999999995 cv accuracy is 0.7891625615763547\n",
            "For r = 5.599999999999994 cv accuracy is 0.7756157635467981\n",
            "For r = 5.699999999999994 cv accuracy is 0.7401477832512315\n",
            "For r = 5.799999999999994 cv accuracy is 0.7261083743842365\n",
            "For r = 5.899999999999993 cv accuracy is 0.6699507389162561\n",
            "\n",
            "Best r = 4.199999999999999 with best cv accuracy = 0.9576354679802955\n",
            "Test accuracy = 0.9722222222222222\n"
          ]
        },
        {
          "output_type": "execute_result",
          "data": {
            "text/plain": [
              "(4.199999999999999, 0.9576354679802955, 0.9722222222222222)"
            ]
          },
          "metadata": {},
          "execution_count": 52
        }
      ]
    },
    {
      "cell_type": "code",
      "metadata": {
        "colab": {
          "base_uri": "https://localhost:8080/"
        },
        "outputId": "b980bde4-bc06-4265-bf27-e2d459e7aabd",
        "id": "yWQps5Tq7cfG"
      },
      "source": [
        "best_r_mod_w, best_res_mod_w, test_score_mod_w, res_mod_w = modified_rnn(X, y, r_min = 4, r_max = 6, step = 0.1, thrs=0.7)"
      ],
      "execution_count": 53,
      "outputs": [
        {
          "output_type": "stream",
          "name": "stdout",
          "text": [
            "For r = 4.0 cv accuracy is 0.9440886699507389\n",
            "For r = 4.1 cv accuracy is 0.9440886699507389\n",
            "For r = 4.199999999999999 cv accuracy is 0.9438423645320198\n",
            "For r = 4.299999999999999 cv accuracy is 0.9438423645320198\n",
            "For r = 4.399999999999999 cv accuracy is 0.9369458128078818\n",
            "For r = 4.499999999999998 cv accuracy is 0.9369458128078818\n",
            "For r = 4.599999999999998 cv accuracy is 0.9369458128078818\n",
            "For r = 4.6999999999999975 cv accuracy is 0.9369458128078818\n",
            "For r = 4.799999999999997 cv accuracy is 0.9369458128078818\n",
            "For r = 4.899999999999997 cv accuracy is 0.9369458128078818\n",
            "For r = 4.9999999999999964 cv accuracy is 0.9440886699507389\n",
            "For r = 5.099999999999996 cv accuracy is 0.9509852216748769\n",
            "For r = 5.199999999999996 cv accuracy is 0.9509852216748769\n",
            "For r = 5.299999999999995 cv accuracy is 0.9509852216748769\n",
            "For r = 5.399999999999995 cv accuracy is 0.9509852216748769\n",
            "For r = 5.499999999999995 cv accuracy is 0.9509852216748769\n",
            "For r = 5.599999999999994 cv accuracy is 0.9509852216748769\n",
            "For r = 5.699999999999994 cv accuracy is 0.9509852216748769\n",
            "For r = 5.799999999999994 cv accuracy is 0.9509852216748769\n",
            "For r = 5.899999999999993 cv accuracy is 0.9509852216748769\n",
            "\n",
            "Best r = 5.099999999999996 with best cv accuracy = 0.9509852216748769\n",
            "Test accuracy = 0.9444444444444444\n"
          ]
        }
      ]
    },
    {
      "cell_type": "code",
      "source": [
        "visualize(res_lib_w, res_mod_w, r_min = 4, r_max = 6, step = 0.1)"
      ],
      "metadata": {
        "colab": {
          "base_uri": "https://localhost:8080/",
          "height": 392
        },
        "outputId": "21d6193b-906a-46e8-aab5-71c73a82d26b",
        "id": "Unl8y7DT7cfG"
      },
      "execution_count": 54,
      "outputs": [
        {
          "output_type": "display_data",
          "data": {
            "image/png": "[encoded data removed]",
            "text/plain": [
              "<Figure size 600x400 with 1 Axes>"
            ]
          },
          "metadata": {
            "needs_background": "light"
          }
        }
      ]
    },
    {
      "cell_type": "markdown",
      "metadata": {
        "id": "kIoGHneL7cfC"
      },
      "source": [
        "### Pima"
      ]
    },
    {
      "cell_type": "code",
      "metadata": {
        "id": "tXUpHKrR7cfC"
      },
      "source": [
        "pima = pd.read_csv(\n",
        "    'https://raw.githubusercontent.com/jbrownlee/Datasets/master/pima-indians-diabetes.csv', \n",
        "    delimiter=',', header=None)"
      ],
      "execution_count": 20,
      "outputs": []
    },
    {
      "cell_type": "code",
      "metadata": {
        "colab": {
          "base_uri": "https://localhost:8080/"
        },
        "outputId": "fd9a7902-64c7-4772-8216-1ae57120ec7d",
        "id": "RjLCWY4W7cfC"
      },
      "source": [
        "pima = pima.to_numpy()\n",
        "X = pima[:, :-1]\n",
        "y = pima[:, -1].astype('int')\n",
        "\n",
        "scaler = StandardScaler()\n",
        "X = scaler.fit_transform(X)\n",
        "\n",
        "X.shape, y.shape"
      ],
      "execution_count": 21,
      "outputs": [
        {
          "output_type": "execute_result",
          "data": {
            "text/plain": [
              "((768, 8), (768,))"
            ]
          },
          "metadata": {},
          "execution_count": 21
        }
      ]
    },
    {
      "cell_type": "code",
      "metadata": {
        "colab": {
          "base_uri": "https://localhost:8080/"
        },
        "outputId": "79ebfcaf-161e-42cf-c020-96e993d8b4ba",
        "id": "f7zJLlhT7cfC"
      },
      "source": [
        "best_r_lib_p, best_res_lib_p, test_score_lib_p, res_lib_p = library_rnn(X, y, 4.5, 8, 0.1)"
      ],
      "execution_count": 22,
      "outputs": [
        {
          "output_type": "stream",
          "name": "stdout",
          "text": [
            "For r = 4.5 cv accuracy is 0.6645341863254698\n",
            "For r = 4.6 cv accuracy is 0.6629214980674398\n",
            "For r = 4.699999999999999 cv accuracy is 0.661295481807277\n",
            "For r = 4.799999999999999 cv accuracy is 0.6661868585898973\n",
            "For r = 4.899999999999999 cv accuracy is 0.6612821538051447\n",
            "For r = 4.999999999999998 cv accuracy is 0.6580034652805545\n",
            "For r = 5.099999999999998 cv accuracy is 0.6596428095428496\n",
            "For r = 5.1999999999999975 cv accuracy is 0.6596428095428496\n",
            "For r = 5.299999999999997 cv accuracy is 0.6547514327602293\n",
            "For r = 5.399999999999997 cv accuracy is 0.6531254165000667\n",
            "For r = 5.4999999999999964 cv accuracy is 0.6531254165000667\n",
            "For r = 5.599999999999996 cv accuracy is 0.651499400239904\n",
            "For r = 5.699999999999996 cv accuracy is 0.651499400239904\n",
            "For r = 5.799999999999995 cv accuracy is 0.651499400239904\n",
            "For r = 5.899999999999995 cv accuracy is 0.6531254165000666\n",
            "For r = 5.999999999999995 cv accuracy is 0.6547514327602293\n",
            "For r = 6.099999999999994 cv accuracy is 0.6563907770225244\n",
            "For r = 6.199999999999994 cv accuracy is 0.6547647607623617\n",
            "For r = 6.299999999999994 cv accuracy is 0.6563907770225244\n",
            "For r = 6.399999999999993 cv accuracy is 0.6547647607623617\n",
            "For r = 6.499999999999993 cv accuracy is 0.6547647607623617\n",
            "For r = 6.5999999999999925 cv accuracy is 0.6547647607623617\n",
            "For r = 6.699999999999992 cv accuracy is 0.6531387445021991\n",
            "For r = 6.799999999999992 cv accuracy is 0.6547647607623617\n",
            "For r = 6.8999999999999915 cv accuracy is 0.6547647607623617\n",
            "For r = 6.999999999999991 cv accuracy is 0.6547647607623617\n",
            "For r = 7.099999999999991 cv accuracy is 0.6547647607623617\n",
            "For r = 7.19999999999999 cv accuracy is 0.6547647607623617\n",
            "For r = 7.29999999999999 cv accuracy is 0.6547647607623617\n",
            "For r = 7.39999999999999 cv accuracy is 0.6547647607623617\n",
            "For r = 7.499999999999989 cv accuracy is 0.6547647607623617\n",
            "For r = 7.599999999999989 cv accuracy is 0.6531254165000666\n",
            "For r = 7.699999999999989 cv accuracy is 0.651499400239904\n",
            "For r = 7.799999999999988 cv accuracy is 0.651499400239904\n",
            "For r = 7.899999999999988 cv accuracy is 0.651499400239904\n",
            "\n",
            "Best r = 4.799999999999999 with best cv accuracy = 0.6661868585898973\n",
            "Test accuracy = 0.6558441558441559\n"
          ]
        }
      ]
    },
    {
      "cell_type": "code",
      "metadata": {
        "colab": {
          "base_uri": "https://localhost:8080/"
        },
        "id": "tPDv1c4_7cfC",
        "outputId": "d708da17-805e-401c-fde4-04ce9a5ee4b1"
      },
      "source": [
        "manual_rnn(X, y, 4.5, 8, 0.1)"
      ],
      "execution_count": 23,
      "outputs": [
        {
          "output_type": "stream",
          "name": "stdout",
          "text": [
            "For r = 4.5 cv accuracy is 0.6645341863254698\n",
            "For r = 4.6 cv accuracy is 0.6629214980674398\n",
            "For r = 4.699999999999999 cv accuracy is 0.661295481807277\n",
            "For r = 4.799999999999999 cv accuracy is 0.6661868585898973\n",
            "For r = 4.899999999999999 cv accuracy is 0.6612821538051447\n",
            "For r = 4.999999999999998 cv accuracy is 0.6580034652805545\n",
            "For r = 5.099999999999998 cv accuracy is 0.6596428095428496\n",
            "For r = 5.1999999999999975 cv accuracy is 0.6596428095428496\n",
            "For r = 5.299999999999997 cv accuracy is 0.6547514327602293\n",
            "For r = 5.399999999999997 cv accuracy is 0.6531254165000667\n",
            "For r = 5.4999999999999964 cv accuracy is 0.6531254165000667\n",
            "For r = 5.599999999999996 cv accuracy is 0.651499400239904\n",
            "For r = 5.699999999999996 cv accuracy is 0.651499400239904\n",
            "For r = 5.799999999999995 cv accuracy is 0.651499400239904\n",
            "For r = 5.899999999999995 cv accuracy is 0.6531254165000666\n",
            "For r = 5.999999999999995 cv accuracy is 0.6547514327602293\n",
            "For r = 6.099999999999994 cv accuracy is 0.6563907770225244\n",
            "For r = 6.199999999999994 cv accuracy is 0.6547647607623617\n",
            "For r = 6.299999999999994 cv accuracy is 0.6563907770225244\n",
            "For r = 6.399999999999993 cv accuracy is 0.6547647607623617\n",
            "For r = 6.499999999999993 cv accuracy is 0.6547647607623617\n",
            "For r = 6.5999999999999925 cv accuracy is 0.6547647607623617\n",
            "For r = 6.699999999999992 cv accuracy is 0.6531387445021991\n",
            "For r = 6.799999999999992 cv accuracy is 0.6547647607623617\n",
            "For r = 6.8999999999999915 cv accuracy is 0.6547647607623617\n",
            "For r = 6.999999999999991 cv accuracy is 0.6547647607623617\n",
            "For r = 7.099999999999991 cv accuracy is 0.6547647607623617\n",
            "For r = 7.19999999999999 cv accuracy is 0.6547647607623617\n",
            "For r = 7.29999999999999 cv accuracy is 0.6547647607623617\n",
            "For r = 7.39999999999999 cv accuracy is 0.6547647607623617\n",
            "For r = 7.499999999999989 cv accuracy is 0.6547647607623617\n",
            "For r = 7.599999999999989 cv accuracy is 0.6531254165000666\n",
            "For r = 7.699999999999989 cv accuracy is 0.651499400239904\n",
            "For r = 7.799999999999988 cv accuracy is 0.651499400239904\n",
            "For r = 7.899999999999988 cv accuracy is 0.651499400239904\n",
            "\n",
            "Best r = 4.799999999999999 with best cv accuracy = 0.6661868585898973\n",
            "Test accuracy = 0.6558441558441559\n"
          ]
        },
        {
          "output_type": "execute_result",
          "data": {
            "text/plain": [
              "(4.799999999999999, 0.6661868585898973, 0.6558441558441559)"
            ]
          },
          "metadata": {},
          "execution_count": 23
        }
      ]
    },
    {
      "cell_type": "code",
      "metadata": {
        "colab": {
          "base_uri": "https://localhost:8080/"
        },
        "outputId": "5a66b00d-f1d6-4307-bc44-79b73c34c3dc",
        "id": "uE7aOhSG7cfC"
      },
      "source": [
        "best_r_mod_p, best_res_mod_p, test_score_mod_p, res_mod_p = modified_rnn(X, y, r_min=4.5, r_max=8, step=0.1, thrs=0.7)"
      ],
      "execution_count": 24,
      "outputs": [
        {
          "output_type": "stream",
          "name": "stdout",
          "text": [
            "For r = 4.5 cv accuracy is 0.7068905771024924\n",
            "For r = 4.6 cv accuracy is 0.7036118885779021\n",
            "For r = 4.699999999999999 cv accuracy is 0.7182993469278954\n",
            "For r = 4.799999999999999 cv accuracy is 0.7215513794482207\n",
            "For r = 4.899999999999999 cv accuracy is 0.7296681327469012\n",
            "For r = 4.999999999999998 cv accuracy is 0.7280287884846062\n",
            "For r = 5.099999999999998 cv accuracy is 0.7345595095295215\n",
            "For r = 5.1999999999999975 cv accuracy is 0.732933493269359\n",
            "For r = 5.299999999999997 cv accuracy is 0.7280421164867387\n",
            "For r = 5.399999999999997 cv accuracy is 0.7313074770091964\n",
            "For r = 5.4999999999999964 cv accuracy is 0.7329468212714915\n",
            "For r = 5.599999999999996 cv accuracy is 0.7362255097960817\n",
            "For r = 5.699999999999996 cv accuracy is 0.7313208050113288\n",
            "For r = 5.799999999999995 cv accuracy is 0.7345861655337865\n",
            "For r = 5.899999999999995 cv accuracy is 0.7362121817939491\n",
            "For r = 5.999999999999995 cv accuracy is 0.7378381980541118\n",
            "For r = 6.099999999999994 cv accuracy is 0.7345994935359189\n",
            "For r = 6.199999999999994 cv accuracy is 0.7313474610155938\n",
            "For r = 6.299999999999994 cv accuracy is 0.7297214447554311\n",
            "For r = 6.399999999999993 cv accuracy is 0.726469412235106\n",
            "For r = 6.499999999999993 cv accuracy is 0.7248433959749434\n",
            "For r = 6.5999999999999925 cv accuracy is 0.7248433959749434\n",
            "For r = 6.699999999999992 cv accuracy is 0.7248433959749434\n",
            "For r = 6.799999999999992 cv accuracy is 0.7232173797147807\n",
            "For r = 6.8999999999999915 cv accuracy is 0.7248567239770758\n",
            "For r = 6.999999999999991 cv accuracy is 0.7248567239770758\n",
            "For r = 7.099999999999991 cv accuracy is 0.7215913634546183\n",
            "For r = 7.19999999999999 cv accuracy is 0.7215913634546183\n",
            "For r = 7.29999999999999 cv accuracy is 0.7199653471944556\n",
            "For r = 7.39999999999999 cv accuracy is 0.7232173797147807\n",
            "For r = 7.499999999999989 cv accuracy is 0.7232173797147807\n",
            "For r = 7.599999999999989 cv accuracy is 0.7215913634546183\n",
            "For r = 7.699999999999989 cv accuracy is 0.7215913634546183\n",
            "For r = 7.799999999999988 cv accuracy is 0.7215913634546183\n",
            "For r = 7.899999999999988 cv accuracy is 0.7232307077169133\n",
            "\n",
            "Best r = 5.999999999999995 with best cv accuracy = 0.7378381980541118\n",
            "Test accuracy = 0.7077922077922078\n"
          ]
        }
      ]
    },
    {
      "cell_type": "code",
      "source": [
        "visualize(res_lib_p, res_mod_p, r_min=4.5, r_max=8, step=0.1)"
      ],
      "metadata": {
        "colab": {
          "base_uri": "https://localhost:8080/",
          "height": 392
        },
        "outputId": "6ca6f6eb-82f8-4798-fcd4-abb59acab2ee",
        "id": "_sX_gBCz7cfC"
      },
      "execution_count": 25,
      "outputs": [
        {
          "output_type": "display_data",
          "data": {
            "image/png": "[encoded data removed]",
            "text/plain": [
              "<Figure size 600x400 with 1 Axes>"
            ]
          },
          "metadata": {
            "needs_background": "light"
          }
        }
      ]
    },
    {
      "cell_type": "markdown",
      "metadata": {
        "id": "c78R9C7k7cfC"
      },
      "source": [
        "### Ionosphere"
      ]
    },
    {
      "cell_type": "code",
      "metadata": {
        "id": "dEKfosRz7cfC"
      },
      "source": [
        "io = pd.read_csv(\n",
        "   os.path.join(path, 'ionosphere.data'), header = None)"
      ],
      "execution_count": 26,
      "outputs": []
    },
    {
      "cell_type": "code",
      "metadata": {
        "id": "1qIiZCE97cfD"
      },
      "source": [
        "io[34] = io[34].replace({'g':1, 'b':0})"
      ],
      "execution_count": 27,
      "outputs": []
    },
    {
      "cell_type": "code",
      "metadata": {
        "colab": {
          "base_uri": "https://localhost:8080/"
        },
        "outputId": "47ba9e51-56fd-4159-8e86-f5044593c241",
        "id": "kMccZTEz7cfD"
      },
      "source": [
        "io = io.to_numpy()\n",
        "X = io[:, :-1]\n",
        "y = io[:, -1].astype('int')\n",
        "\n",
        "scaler = StandardScaler()\n",
        "X = scaler.fit_transform(X)\n",
        "\n",
        "X.shape, y.shape"
      ],
      "execution_count": 28,
      "outputs": [
        {
          "output_type": "execute_result",
          "data": {
            "text/plain": [
              "((351, 34), (351,))"
            ]
          },
          "metadata": {},
          "execution_count": 28
        }
      ]
    },
    {
      "cell_type": "code",
      "metadata": {
        "colab": {
          "base_uri": "https://localhost:8080/"
        },
        "outputId": "7e94019e-3052-414a-cfb1-dccc9dd52134",
        "id": "QFPTssG07cfD"
      },
      "source": [
        "best_r_lib_io, best_res_lib_io, test_score_lib_io, res_lib_io= library_rnn(X, y, 10.1, 13.1, 0.1)"
      ],
      "execution_count": 29,
      "outputs": [
        {
          "output_type": "stream",
          "name": "stdout",
          "text": [
            "For r = 10.1 cv accuracy is 0.6964285714285714\n",
            "For r = 10.2 cv accuracy is 0.6928571428571428\n",
            "For r = 10.299999999999999 cv accuracy is 0.6928571428571428\n",
            "For r = 10.399999999999999 cv accuracy is 0.6857142857142857\n",
            "For r = 10.499999999999998 cv accuracy is 0.6821428571428572\n",
            "For r = 10.599999999999998 cv accuracy is 0.675\n",
            "For r = 10.699999999999998 cv accuracy is 0.675\n",
            "For r = 10.799999999999997 cv accuracy is 0.6714285714285715\n",
            "For r = 10.899999999999997 cv accuracy is 0.6678571428571429\n",
            "For r = 10.999999999999996 cv accuracy is 0.6607142857142857\n",
            "For r = 11.099999999999996 cv accuracy is 0.6607142857142857\n",
            "For r = 11.199999999999996 cv accuracy is 0.6607142857142857\n",
            "For r = 11.299999999999995 cv accuracy is 0.6607142857142857\n",
            "For r = 11.399999999999995 cv accuracy is 0.657142857142857\n",
            "For r = 11.499999999999995 cv accuracy is 0.6535714285714285\n",
            "For r = 11.599999999999994 cv accuracy is 0.6571428571428571\n",
            "For r = 11.699999999999994 cv accuracy is 0.6535714285714285\n",
            "For r = 11.799999999999994 cv accuracy is 0.6535714285714285\n",
            "For r = 11.899999999999993 cv accuracy is 0.6535714285714285\n",
            "For r = 11.999999999999993 cv accuracy is 0.6535714285714285\n",
            "For r = 12.099999999999993 cv accuracy is 0.6535714285714285\n",
            "For r = 12.199999999999992 cv accuracy is 0.6535714285714285\n",
            "For r = 12.299999999999992 cv accuracy is 0.6499999999999999\n",
            "For r = 12.399999999999991 cv accuracy is 0.6499999999999999\n",
            "For r = 12.499999999999991 cv accuracy is 0.6499999999999999\n",
            "For r = 12.59999999999999 cv accuracy is 0.6499999999999999\n",
            "For r = 12.69999999999999 cv accuracy is 0.6499999999999999\n",
            "For r = 12.79999999999999 cv accuracy is 0.6499999999999999\n",
            "For r = 12.89999999999999 cv accuracy is 0.6499999999999999\n",
            "For r = 12.99999999999999 cv accuracy is 0.6499999999999999\n",
            "\n",
            "Best r = 10.1 with best cv accuracy = 0.6964285714285714\n",
            "Test accuracy = 0.6338028169014085\n"
          ]
        }
      ]
    },
    {
      "cell_type": "code",
      "metadata": {
        "colab": {
          "base_uri": "https://localhost:8080/"
        },
        "outputId": "8d288e31-f8a2-4691-e31a-76259deff9c9",
        "id": "iuiF-9uG7cfD"
      },
      "source": [
        "manual_rnn(X, y, 10.1, 13.1, 0.1)"
      ],
      "execution_count": 30,
      "outputs": [
        {
          "output_type": "stream",
          "name": "stdout",
          "text": [
            "For r = 10.1 cv accuracy is 0.6964285714285714\n",
            "For r = 10.2 cv accuracy is 0.6928571428571428\n",
            "For r = 10.299999999999999 cv accuracy is 0.6928571428571428\n",
            "For r = 10.399999999999999 cv accuracy is 0.6857142857142857\n",
            "For r = 10.499999999999998 cv accuracy is 0.6821428571428572\n",
            "For r = 10.599999999999998 cv accuracy is 0.675\n",
            "For r = 10.699999999999998 cv accuracy is 0.675\n",
            "For r = 10.799999999999997 cv accuracy is 0.6714285714285715\n",
            "For r = 10.899999999999997 cv accuracy is 0.6678571428571429\n",
            "For r = 10.999999999999996 cv accuracy is 0.6607142857142857\n",
            "For r = 11.099999999999996 cv accuracy is 0.6607142857142857\n",
            "For r = 11.199999999999996 cv accuracy is 0.6607142857142857\n",
            "For r = 11.299999999999995 cv accuracy is 0.6607142857142857\n",
            "For r = 11.399999999999995 cv accuracy is 0.657142857142857\n",
            "For r = 11.499999999999995 cv accuracy is 0.6535714285714285\n",
            "For r = 11.599999999999994 cv accuracy is 0.6571428571428571\n",
            "For r = 11.699999999999994 cv accuracy is 0.6535714285714285\n",
            "For r = 11.799999999999994 cv accuracy is 0.6535714285714285\n",
            "For r = 11.899999999999993 cv accuracy is 0.6535714285714285\n",
            "For r = 11.999999999999993 cv accuracy is 0.6535714285714285\n",
            "For r = 12.099999999999993 cv accuracy is 0.6535714285714285\n",
            "For r = 12.199999999999992 cv accuracy is 0.6535714285714285\n",
            "For r = 12.299999999999992 cv accuracy is 0.6499999999999999\n",
            "For r = 12.399999999999991 cv accuracy is 0.6499999999999999\n",
            "For r = 12.499999999999991 cv accuracy is 0.6499999999999999\n",
            "For r = 12.59999999999999 cv accuracy is 0.6499999999999999\n",
            "For r = 12.69999999999999 cv accuracy is 0.6499999999999999\n",
            "For r = 12.79999999999999 cv accuracy is 0.6499999999999999\n",
            "For r = 12.89999999999999 cv accuracy is 0.6499999999999999\n",
            "For r = 12.99999999999999 cv accuracy is 0.6499999999999999\n",
            "\n",
            "Best r = 10.1 with best cv accuracy = 0.6964285714285714\n",
            "Test accuracy = 0.6338028169014085\n"
          ]
        },
        {
          "output_type": "execute_result",
          "data": {
            "text/plain": [
              "(10.1, 0.6964285714285714, 0.6338028169014085)"
            ]
          },
          "metadata": {},
          "execution_count": 30
        }
      ]
    },
    {
      "cell_type": "code",
      "metadata": {
        "colab": {
          "base_uri": "https://localhost:8080/"
        },
        "outputId": "d7939a6e-0c4b-44f9-c9fe-8ca226e7e3fd",
        "id": "SU_s7Z9E7cfD"
      },
      "source": [
        "best_r_mod_io, best_res_mod_io, test_score_mod_io, res_mod_io = modified_rnn(X, y, r_min = 10.1, r_max = 13.1, step=0.1, thrs=0.7) "
      ],
      "execution_count": 31,
      "outputs": [
        {
          "output_type": "stream",
          "name": "stdout",
          "text": [
            "For r = 10.1 cv accuracy is 0.8535714285714284\n",
            "For r = 10.2 cv accuracy is 0.8535714285714284\n",
            "For r = 10.299999999999999 cv accuracy is 0.8535714285714284\n",
            "For r = 10.399999999999999 cv accuracy is 0.8571428571428571\n",
            "For r = 10.499999999999998 cv accuracy is 0.8535714285714284\n",
            "For r = 10.599999999999998 cv accuracy is 0.85\n",
            "For r = 10.699999999999998 cv accuracy is 0.85\n",
            "For r = 10.799999999999997 cv accuracy is 0.85\n",
            "For r = 10.899999999999997 cv accuracy is 0.85\n",
            "For r = 10.999999999999996 cv accuracy is 0.85\n",
            "For r = 11.099999999999996 cv accuracy is 0.8535714285714284\n",
            "For r = 11.199999999999996 cv accuracy is 0.8535714285714284\n",
            "For r = 11.299999999999995 cv accuracy is 0.85\n",
            "For r = 11.399999999999995 cv accuracy is 0.85\n",
            "For r = 11.499999999999995 cv accuracy is 0.85\n",
            "For r = 11.599999999999994 cv accuracy is 0.85\n",
            "For r = 11.699999999999994 cv accuracy is 0.85\n",
            "For r = 11.799999999999994 cv accuracy is 0.8535714285714286\n",
            "For r = 11.899999999999993 cv accuracy is 0.8535714285714286\n",
            "For r = 11.999999999999993 cv accuracy is 0.8535714285714286\n",
            "For r = 12.099999999999993 cv accuracy is 0.8535714285714286\n",
            "For r = 12.199999999999992 cv accuracy is 0.8535714285714286\n",
            "For r = 12.299999999999992 cv accuracy is 0.8535714285714286\n",
            "For r = 12.399999999999991 cv accuracy is 0.8571428571428571\n",
            "For r = 12.499999999999991 cv accuracy is 0.8571428571428571\n",
            "For r = 12.59999999999999 cv accuracy is 0.8571428571428571\n",
            "For r = 12.69999999999999 cv accuracy is 0.8571428571428571\n",
            "For r = 12.79999999999999 cv accuracy is 0.8571428571428571\n",
            "For r = 12.89999999999999 cv accuracy is 0.8571428571428571\n",
            "For r = 12.99999999999999 cv accuracy is 0.8571428571428571\n",
            "\n",
            "Best r = 10.399999999999999 with best cv accuracy = 0.8571428571428571\n",
            "Test accuracy = 0.8450704225352113\n"
          ]
        }
      ]
    },
    {
      "cell_type": "code",
      "source": [
        "visualize(res_lib_io, res_mod_io, r_min=10.1, r_max=13.1, step=0.1)"
      ],
      "metadata": {
        "colab": {
          "base_uri": "https://localhost:8080/",
          "height": 392
        },
        "outputId": "387402b9-3352-413d-9108-3033d8c16d79",
        "id": "bYewJtqr7cfD"
      },
      "execution_count": 32,
      "outputs": [
        {
          "output_type": "display_data",
          "data": {
            "image/png": "[encoded data removed]",
            "text/plain": [
              "<Figure size 600x400 with 1 Axes>"
            ]
          },
          "metadata": {
            "needs_background": "light"
          }
        }
      ]
    },
    {
      "cell_type": "markdown",
      "metadata": {
        "id": "tWUcZR0C7cfD"
      },
      "source": [
        "### Sonar"
      ]
    },
    {
      "cell_type": "code",
      "metadata": {
        "id": "IwM3J5xu7cfD"
      },
      "source": [
        "sonar = pd.read_csv(\n",
        "   os.path.join(path, 'sonar.all-data'), header = None)"
      ],
      "execution_count": 33,
      "outputs": []
    },
    {
      "cell_type": "code",
      "metadata": {
        "id": "kT_40bTS7cfD"
      },
      "source": [
        "sonar[60] = sonar[60].replace({'R':1, 'M':0})"
      ],
      "execution_count": 34,
      "outputs": []
    },
    {
      "cell_type": "code",
      "metadata": {
        "colab": {
          "base_uri": "https://localhost:8080/"
        },
        "outputId": "90b930ca-3061-4166-d118-4a4bdebef20b",
        "id": "OoKMIDw77cfE"
      },
      "source": [
        "sonar = sonar.to_numpy()\n",
        "X = sonar[:, :-1]\n",
        "y = sonar[:, -1].astype('int')\n",
        "\n",
        "scaler = StandardScaler()\n",
        "X = scaler.fit_transform(X)\n",
        "\n",
        "X.shape, y.shape"
      ],
      "execution_count": 35,
      "outputs": [
        {
          "output_type": "execute_result",
          "data": {
            "text/plain": [
              "((208, 60), (208,))"
            ]
          },
          "metadata": {},
          "execution_count": 35
        }
      ]
    },
    {
      "cell_type": "code",
      "metadata": {
        "colab": {
          "base_uri": "https://localhost:8080/"
        },
        "outputId": "d285abf5-c272-4cf4-abda-f808bf7e7ed5",
        "id": "7JMz6FzS7cfE"
      },
      "source": [
        "best_r_lib_s, best_res_lib_s, test_score_lib_s, res_lib_s = library_rnn(X, y, 12.8, 15, 0.1)"
      ],
      "execution_count": 36,
      "outputs": [
        {
          "output_type": "stream",
          "name": "stdout",
          "text": [
            "For r = 12.8 cv accuracy is 0.5354723707664883\n",
            "For r = 12.9 cv accuracy is 0.5595365418894831\n",
            "For r = 13.0 cv accuracy is 0.5652406417112299\n",
            "For r = 13.1 cv accuracy is 0.5773618538324421\n",
            "For r = 13.2 cv accuracy is 0.553475935828877\n",
            "For r = 13.299999999999999 cv accuracy is 0.547415329768271\n",
            "For r = 13.399999999999999 cv accuracy is 0.5531194295900178\n",
            "For r = 13.499999999999998 cv accuracy is 0.5654188948306595\n",
            "For r = 13.599999999999998 cv accuracy is 0.5657754010695186\n",
            "For r = 13.699999999999998 cv accuracy is 0.5536541889483065\n",
            "For r = 13.799999999999997 cv accuracy is 0.5536541889483065\n",
            "For r = 13.899999999999997 cv accuracy is 0.5657754010695186\n",
            "For r = 13.999999999999996 cv accuracy is 0.5415329768270944\n",
            "For r = 14.099999999999996 cv accuracy is 0.5354723707664883\n",
            "For r = 14.199999999999996 cv accuracy is 0.5292335115864527\n",
            "For r = 14.299999999999995 cv accuracy is 0.5354723707664883\n",
            "For r = 14.399999999999995 cv accuracy is 0.5238859180035651\n",
            "For r = 14.499999999999995 cv accuracy is 0.48199643493761146\n",
            "For r = 14.599999999999994 cv accuracy is 0.4698752228163993\n",
            "For r = 14.699999999999994 cv accuracy is 0.47593582887700536\n",
            "For r = 14.799999999999994 cv accuracy is 0.4880570409982175\n",
            "For r = 14.899999999999993 cv accuracy is 0.4880570409982175\n",
            "\n",
            "Best r = 13.1 with best cv accuracy = 0.5773618538324421\n",
            "Test accuracy = 0.6904761904761905\n"
          ]
        }
      ]
    },
    {
      "cell_type": "code",
      "metadata": {
        "colab": {
          "base_uri": "https://localhost:8080/"
        },
        "outputId": "b3e10e5b-a198-4660-9f99-fb2759b1de20",
        "id": "3mRd78TK7cfE"
      },
      "source": [
        "manual_rnn(X, y, 12.8, 15, 0.1)"
      ],
      "execution_count": 37,
      "outputs": [
        {
          "output_type": "stream",
          "name": "stdout",
          "text": [
            "For r = 12.8 cv accuracy is 0.5354723707664883\n",
            "For r = 12.9 cv accuracy is 0.5595365418894831\n",
            "For r = 13.0 cv accuracy is 0.5652406417112299\n",
            "For r = 13.1 cv accuracy is 0.5773618538324421\n",
            "For r = 13.2 cv accuracy is 0.553475935828877\n",
            "For r = 13.299999999999999 cv accuracy is 0.547415329768271\n",
            "For r = 13.399999999999999 cv accuracy is 0.5531194295900178\n",
            "For r = 13.499999999999998 cv accuracy is 0.5654188948306595\n",
            "For r = 13.599999999999998 cv accuracy is 0.5657754010695186\n",
            "For r = 13.699999999999998 cv accuracy is 0.5536541889483065\n",
            "For r = 13.799999999999997 cv accuracy is 0.5536541889483065\n",
            "For r = 13.899999999999997 cv accuracy is 0.5657754010695186\n",
            "For r = 13.999999999999996 cv accuracy is 0.5415329768270944\n",
            "For r = 14.099999999999996 cv accuracy is 0.5354723707664883\n",
            "For r = 14.199999999999996 cv accuracy is 0.5292335115864527\n",
            "For r = 14.299999999999995 cv accuracy is 0.5354723707664883\n",
            "For r = 14.399999999999995 cv accuracy is 0.5238859180035651\n",
            "For r = 14.499999999999995 cv accuracy is 0.48199643493761146\n",
            "For r = 14.599999999999994 cv accuracy is 0.4698752228163993\n",
            "For r = 14.699999999999994 cv accuracy is 0.47593582887700536\n",
            "For r = 14.799999999999994 cv accuracy is 0.4880570409982175\n",
            "For r = 14.899999999999993 cv accuracy is 0.4880570409982175\n",
            "\n",
            "Best r = 13.1 with best cv accuracy = 0.5773618538324421\n",
            "Test accuracy = 0.6904761904761905\n"
          ]
        },
        {
          "output_type": "execute_result",
          "data": {
            "text/plain": [
              "(13.1, 0.5773618538324421, 0.6904761904761905)"
            ]
          },
          "metadata": {},
          "execution_count": 37
        }
      ]
    },
    {
      "cell_type": "code",
      "metadata": {
        "colab": {
          "base_uri": "https://localhost:8080/"
        },
        "outputId": "148dea5e-c6b7-4b6f-e613-ec3783ffdae3",
        "id": "SgUlGXJl7cfE"
      },
      "source": [
        "best_r_mod_s, best_res_mod_s, test_score_mod_s, res_mod_s = modified_rnn(X, y, r_min=12.8, r_max = 15, step = 0.1, thrs=0.7)"
      ],
      "execution_count": 38,
      "outputs": [
        {
          "output_type": "stream",
          "name": "stdout",
          "text": [
            "For r = 12.8 cv accuracy is 0.7645276292335116\n",
            "For r = 12.9 cv accuracy is 0.7705882352941177\n",
            "For r = 13.0 cv accuracy is 0.7645276292335115\n",
            "For r = 13.1 cv accuracy is 0.7463458110516934\n",
            "For r = 13.2 cv accuracy is 0.7221033868092691\n",
            "For r = 13.299999999999999 cv accuracy is 0.7160427807486631\n",
            "For r = 13.399999999999999 cv accuracy is 0.7279857397504456\n",
            "For r = 13.499999999999998 cv accuracy is 0.7158645276292335\n",
            "For r = 13.599999999999998 cv accuracy is 0.7158645276292335\n",
            "For r = 13.699999999999998 cv accuracy is 0.7158645276292335\n",
            "For r = 13.799999999999997 cv accuracy is 0.727807486631016\n",
            "For r = 13.899999999999997 cv accuracy is 0.733868092691622\n",
            "For r = 13.999999999999996 cv accuracy is 0.733868092691622\n",
            "For r = 14.099999999999996 cv accuracy is 0.7399286987522281\n",
            "For r = 14.199999999999996 cv accuracy is 0.7340463458110517\n",
            "For r = 14.299999999999995 cv accuracy is 0.7401069518716576\n",
            "For r = 14.399999999999995 cv accuracy is 0.7520499108734402\n",
            "For r = 14.499999999999995 cv accuracy is 0.7520499108734402\n",
            "For r = 14.599999999999994 cv accuracy is 0.7581105169340463\n",
            "For r = 14.699999999999994 cv accuracy is 0.7581105169340463\n",
            "For r = 14.799999999999994 cv accuracy is 0.7581105169340463\n",
            "For r = 14.899999999999993 cv accuracy is 0.7581105169340463\n",
            "\n",
            "Best r = 12.9 with best cv accuracy = 0.7705882352941177\n",
            "Test accuracy = 0.9047619047619048\n"
          ]
        }
      ]
    },
    {
      "cell_type": "code",
      "source": [
        "visualize(res_lib_s, res_mod_s, r_min=12.8, r_max=15, step=0.1)"
      ],
      "metadata": {
        "colab": {
          "base_uri": "https://localhost:8080/",
          "height": 392
        },
        "outputId": "c8f7000e-ba01-4324-9612-fa20dc2ac10d",
        "id": "m8C3wp6N7cfF"
      },
      "execution_count": 39,
      "outputs": [
        {
          "output_type": "display_data",
          "data": {
            "image/png": "[encoded data removed]",
            "text/plain": [
              "<Figure size 600x400 with 1 Axes>"
            ]
          },
          "metadata": {
            "needs_background": "light"
          }
        }
      ]
    },
    {
      "cell_type": "markdown",
      "metadata": {
        "id": "9FJWtP4t7cfF"
      },
      "source": [
        "### Liver"
      ]
    },
    {
      "cell_type": "code",
      "metadata": {
        "id": "CGIDSmMj7cfF"
      },
      "source": [
        "liver = pd.read_csv(\n",
        "    'https://datahub.io/machine-learning/liver-disorders/r/1.csv', \n",
        "    delimiter=',')"
      ],
      "execution_count": 40,
      "outputs": []
    },
    {
      "cell_type": "code",
      "metadata": {
        "id": "OQsuOxq37cfF"
      },
      "source": [
        "liver['selector'] = liver['selector'].replace({2:1, 1:0})"
      ],
      "execution_count": 41,
      "outputs": []
    },
    {
      "cell_type": "code",
      "metadata": {
        "colab": {
          "base_uri": "https://localhost:8080/"
        },
        "outputId": "6c5538a1-5271-4858-a568-403b75a89e21",
        "id": "tWag_wdT7cfF"
      },
      "source": [
        "liver = liver.to_numpy()\n",
        "X = liver[:, :-1]\n",
        "y = liver[:, -1].astype('int')\n",
        "\n",
        "scaler = StandardScaler()\n",
        "X = scaler.fit_transform(X)\n",
        "\n",
        "X.shape, y.shape"
      ],
      "execution_count": 42,
      "outputs": [
        {
          "output_type": "execute_result",
          "data": {
            "text/plain": [
              "((345, 6), (345,))"
            ]
          },
          "metadata": {},
          "execution_count": 42
        }
      ]
    },
    {
      "cell_type": "code",
      "metadata": {
        "colab": {
          "base_uri": "https://localhost:8080/"
        },
        "outputId": "9af1b39e-76a4-4345-e144-a4685bfaca2d",
        "id": "2bbHeHXK7cfF"
      },
      "source": [
        "best_r_lib_l, best_res_lib_l, test_score_lib_l, res_lib_l = library_rnn(X, y, 3.1, 5, 0.1)"
      ],
      "execution_count": 44,
      "outputs": [
        {
          "output_type": "stream",
          "name": "stdout",
          "text": [
            "For r = 3.1 cv accuracy is 0.5361688311688311\n",
            "For r = 3.2 cv accuracy is 0.5505844155844156\n",
            "For r = 3.3000000000000003 cv accuracy is 0.5542207792207792\n",
            "For r = 3.4000000000000004 cv accuracy is 0.5614935064935065\n",
            "For r = 3.5000000000000004 cv accuracy is 0.5687662337662338\n",
            "For r = 3.6000000000000005 cv accuracy is 0.56512987012987\n",
            "For r = 3.7000000000000006 cv accuracy is 0.5615584415584416\n",
            "For r = 3.8000000000000007 cv accuracy is 0.5616233766233767\n",
            "For r = 3.900000000000001 cv accuracy is 0.5615584415584416\n",
            "For r = 4.000000000000001 cv accuracy is 0.5579220779220779\n",
            "For r = 4.100000000000001 cv accuracy is 0.5579220779220779\n",
            "For r = 4.200000000000001 cv accuracy is 0.5615584415584415\n",
            "For r = 4.300000000000001 cv accuracy is 0.5579220779220778\n",
            "For r = 4.400000000000001 cv accuracy is 0.5688311688311687\n",
            "For r = 4.500000000000002 cv accuracy is 0.5724675324675325\n",
            "For r = 4.600000000000001 cv accuracy is 0.576103896103896\n",
            "For r = 4.700000000000001 cv accuracy is 0.5724675324675325\n",
            "For r = 4.800000000000002 cv accuracy is 0.576103896103896\n",
            "For r = 4.900000000000002 cv accuracy is 0.576103896103896\n",
            "\n",
            "Best r = 4.600000000000001 with best cv accuracy = 0.576103896103896\n",
            "Test accuracy = 0.6086956521739131\n"
          ]
        }
      ]
    },
    {
      "cell_type": "code",
      "metadata": {
        "colab": {
          "base_uri": "https://localhost:8080/"
        },
        "outputId": "8f751ca3-d927-4519-b79a-00b4d1c226f1",
        "id": "zyjxBOGo7cfF"
      },
      "source": [
        "manual_rnn(X, y, 3.1, 5, 0.1)"
      ],
      "execution_count": 45,
      "outputs": [
        {
          "output_type": "stream",
          "name": "stdout",
          "text": [
            "For r = 3.1 cv accuracy is 0.5361688311688311\n",
            "For r = 3.2 cv accuracy is 0.5505844155844156\n",
            "For r = 3.3000000000000003 cv accuracy is 0.5542207792207792\n",
            "For r = 3.4000000000000004 cv accuracy is 0.5614935064935065\n",
            "For r = 3.5000000000000004 cv accuracy is 0.5687662337662338\n",
            "For r = 3.6000000000000005 cv accuracy is 0.56512987012987\n",
            "For r = 3.7000000000000006 cv accuracy is 0.5615584415584416\n",
            "For r = 3.8000000000000007 cv accuracy is 0.5616233766233767\n",
            "For r = 3.900000000000001 cv accuracy is 0.5615584415584416\n",
            "For r = 4.000000000000001 cv accuracy is 0.5579220779220779\n",
            "For r = 4.100000000000001 cv accuracy is 0.5579220779220779\n",
            "For r = 4.200000000000001 cv accuracy is 0.5615584415584415\n",
            "For r = 4.300000000000001 cv accuracy is 0.5579220779220778\n",
            "For r = 4.400000000000001 cv accuracy is 0.5688311688311687\n",
            "For r = 4.500000000000002 cv accuracy is 0.5724675324675325\n",
            "For r = 4.600000000000001 cv accuracy is 0.576103896103896\n",
            "For r = 4.700000000000001 cv accuracy is 0.5724675324675325\n",
            "For r = 4.800000000000002 cv accuracy is 0.576103896103896\n",
            "For r = 4.900000000000002 cv accuracy is 0.576103896103896\n",
            "\n",
            "Best r = 4.600000000000001 with best cv accuracy = 0.576103896103896\n",
            "Test accuracy = 0.6086956521739131\n"
          ]
        },
        {
          "output_type": "execute_result",
          "data": {
            "text/plain": [
              "(4.600000000000001, 0.576103896103896, 0.6086956521739131)"
            ]
          },
          "metadata": {},
          "execution_count": 45
        }
      ]
    },
    {
      "cell_type": "code",
      "metadata": {
        "colab": {
          "base_uri": "https://localhost:8080/"
        },
        "outputId": "f5f7758d-c6f8-424f-99f1-7717c6f89ed5",
        "id": "JzaWsQdm7cfF"
      },
      "source": [
        "best_r_mod_l, best_res_mod_l, test_score_mod_l, res_mod_l = modified_rnn(X, y, r_min = 3.1, r_max = 5,step = 0.1, thrs=0.7)"
      ],
      "execution_count": 47,
      "outputs": [
        {
          "output_type": "stream",
          "name": "stdout",
          "text": [
            "For r = 3.1 cv accuracy is 0.6088961038961038\n",
            "For r = 3.2 cv accuracy is 0.6159740259740258\n",
            "For r = 3.3000000000000003 cv accuracy is 0.6196103896103897\n",
            "For r = 3.4000000000000004 cv accuracy is 0.6160389610389612\n",
            "For r = 3.5000000000000004 cv accuracy is 0.6051298701298701\n",
            "For r = 3.6000000000000005 cv accuracy is 0.5942207792207792\n",
            "For r = 3.7000000000000006 cv accuracy is 0.6015584415584415\n",
            "For r = 3.8000000000000007 cv accuracy is 0.5834415584415585\n",
            "For r = 3.900000000000001 cv accuracy is 0.597987012987013\n",
            "For r = 4.000000000000001 cv accuracy is 0.6051948051948052\n",
            "For r = 4.100000000000001 cv accuracy is 0.5870129870129871\n",
            "For r = 4.200000000000001 cv accuracy is 0.5870779220779221\n",
            "For r = 4.300000000000001 cv accuracy is 0.5834415584415584\n",
            "For r = 4.400000000000001 cv accuracy is 0.5762987012987013\n",
            "For r = 4.500000000000002 cv accuracy is 0.5977272727272728\n",
            "For r = 4.600000000000001 cv accuracy is 0.6013636363636363\n",
            "For r = 4.700000000000001 cv accuracy is 0.593961038961039\n",
            "For r = 4.800000000000002 cv accuracy is 0.5976623376623376\n",
            "For r = 4.900000000000002 cv accuracy is 0.5795454545454545\n",
            "\n",
            "Best r = 3.3000000000000003 with best cv accuracy = 0.6196103896103897\n",
            "Test accuracy = 0.6376811594202898\n"
          ]
        }
      ]
    },
    {
      "cell_type": "code",
      "source": [
        "visualize(res_lib_l, res_mod_l, r_min = 3.1, r_max = 5, step = 0.1)"
      ],
      "metadata": {
        "colab": {
          "base_uri": "https://localhost:8080/",
          "height": 392
        },
        "outputId": "08edadd5-96ad-4ae9-eb58-ae3db111a36c",
        "id": "5aiS69287cfF"
      },
      "execution_count": 48,
      "outputs": [
        {
          "output_type": "display_data",
          "data": {
            "image/png": "[encoded data removed]",
            "text/plain": [
              "<Figure size 600x400 with 1 Axes>"
            ]
          },
          "metadata": {
            "needs_background": "light"
          }
        }
      ]
    }
  ]
}